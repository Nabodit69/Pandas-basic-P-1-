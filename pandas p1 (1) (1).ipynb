{
 "cells": [
  {
   "cell_type": "markdown",
   "id": "083d9ecb-b1e4-47a0-85f4-6f4d05e681d3",
   "metadata": {},
   "source": [
    " ### Q1. Create a Pandas Series that contains the following data: 4, 8, 15, 16, 23, and 42. Then, print the series."
   ]
  },
  {
   "cell_type": "code",
   "execution_count": 36,
   "id": "3d5f4fcc-18c5-44df-89ea-eff107315f28",
   "metadata": {},
   "outputs": [],
   "source": [
    "import pandas as pd"
   ]
  },
  {
   "cell_type": "code",
   "execution_count": 37,
   "id": "d2c83f4d-d204-4f2b-939d-0e2351ee40e7",
   "metadata": {},
   "outputs": [],
   "source": [
    "data = [4,8,15,16,23,42]"
   ]
  },
  {
   "cell_type": "code",
   "execution_count": 44,
   "id": "ad59519d-c44e-4e57-a28a-a28e3f409e3a",
   "metadata": {},
   "outputs": [],
   "source": [
    "data1 = pd.Series(data)"
   ]
  },
  {
   "cell_type": "code",
   "execution_count": null,
   "id": "adc1298c-af50-4538-b33c-c47ac8a4ef9c",
   "metadata": {},
   "outputs": [],
   "source": []
  },
  {
   "cell_type": "markdown",
   "id": "f09edcb1-85cc-4858-b1f3-c930a662949a",
   "metadata": {},
   "source": [
    "### Q2. Create a variable of list type containing 10 elements in it, and apply pandas.Series function on the variable print it"
   ]
  },
  {
   "cell_type": "code",
   "execution_count": 39,
   "id": "d34f56fa-8a92-4e7d-b871-02dfe3d2977b",
   "metadata": {},
   "outputs": [],
   "source": [
    "import pandas as pd "
   ]
  },
  {
   "cell_type": "code",
   "execution_count": 41,
   "id": "619ec42d-2cdd-4e27-aaca-baa634217341",
   "metadata": {},
   "outputs": [],
   "source": [
    "x = [1,2,3,4,5,6,7,8,9,10]"
   ]
  },
  {
   "cell_type": "code",
   "execution_count": 42,
   "id": "c470aee0-d8ed-46ad-9844-e6037e0ec0bb",
   "metadata": {},
   "outputs": [],
   "source": [
    "my_variable = pd.Series(x)"
   ]
  },
  {
   "cell_type": "code",
   "execution_count": 43,
   "id": "ebdf84f1-fa12-4fe5-9ada-1c6609023592",
   "metadata": {},
   "outputs": [
    {
     "name": "stdout",
     "output_type": "stream",
     "text": [
      "0     1\n",
      "1     2\n",
      "2     3\n",
      "3     4\n",
      "4     5\n",
      "5     6\n",
      "6     7\n",
      "7     8\n",
      "8     9\n",
      "9    10\n",
      "dtype: int64\n"
     ]
    }
   ],
   "source": [
    "print(my_variable)"
   ]
  },
  {
   "cell_type": "markdown",
   "id": "46569002-0d45-4536-a2dd-cea4fa381050",
   "metadata": {},
   "source": [
    "### Q3. Create a Pandas DataFrame that contains the following data:"
   ]
  },
  {
   "cell_type": "code",
   "execution_count": 33,
   "id": "acc6563d-ae02-4e79-94ad-5877718e75b5",
   "metadata": {},
   "outputs": [],
   "source": [
    "import pandas as pd "
   ]
  },
  {
   "cell_type": "code",
   "execution_count": 2,
   "id": "b36d5d5c-9939-4ab3-a5af-fd559704f416",
   "metadata": {},
   "outputs": [],
   "source": [
    "d = {\n",
    "'Name' : [\"Alice\",\"Bob\",\"Claire\"],\n",
    "'Age' : [25,30,27],\n",
    "'Sex' : [\"Female\",\"Male\",\"Female\"]\n",
    "}"
   ]
  },
  {
   "cell_type": "code",
   "execution_count": 3,
   "id": "00b56cd4-a102-4a72-a67d-a4bc658aaeba",
   "metadata": {},
   "outputs": [],
   "source": [
    "df = pd.DataFrame(d)"
   ]
  },
  {
   "cell_type": "code",
   "execution_count": 4,
   "id": "d4685d92-7a53-429f-9fba-64fb11f42bdd",
   "metadata": {},
   "outputs": [
    {
     "data": {
      "text/html": [
       "<div>\n",
       "<style scoped>\n",
       "    .dataframe tbody tr th:only-of-type {\n",
       "        vertical-align: middle;\n",
       "    }\n",
       "\n",
       "    .dataframe tbody tr th {\n",
       "        vertical-align: top;\n",
       "    }\n",
       "\n",
       "    .dataframe thead th {\n",
       "        text-align: right;\n",
       "    }\n",
       "</style>\n",
       "<table border=\"1\" class=\"dataframe\">\n",
       "  <thead>\n",
       "    <tr style=\"text-align: right;\">\n",
       "      <th></th>\n",
       "      <th>Name</th>\n",
       "      <th>Age</th>\n",
       "      <th>Sex</th>\n",
       "    </tr>\n",
       "  </thead>\n",
       "  <tbody>\n",
       "    <tr>\n",
       "      <th>0</th>\n",
       "      <td>Alice</td>\n",
       "      <td>25</td>\n",
       "      <td>Female</td>\n",
       "    </tr>\n",
       "    <tr>\n",
       "      <th>1</th>\n",
       "      <td>Bob</td>\n",
       "      <td>30</td>\n",
       "      <td>Male</td>\n",
       "    </tr>\n",
       "    <tr>\n",
       "      <th>2</th>\n",
       "      <td>Claire</td>\n",
       "      <td>27</td>\n",
       "      <td>Female</td>\n",
       "    </tr>\n",
       "  </tbody>\n",
       "</table>\n",
       "</div>"
      ],
      "text/plain": [
       "     Name  Age     Sex\n",
       "0   Alice   25  Female\n",
       "1     Bob   30    Male\n",
       "2  Claire   27  Female"
      ]
     },
     "execution_count": 4,
     "metadata": {},
     "output_type": "execute_result"
    }
   ],
   "source": [
    "df"
   ]
  },
  {
   "cell_type": "markdown",
   "id": "1e14c3a2-6f8c-456c-887c-8fe7a6ef0e2a",
   "metadata": {},
   "source": [
    "### Q4. What is ‘DataFrame’ in pandas and how is it different from pandas.series? Explain with an example."
   ]
  },
  {
   "cell_type": "markdown",
   "id": "d53c6288-dcfe-4a51-a08b-163ec65b1c45",
   "metadata": {},
   "source": [
    "Ans :- In pandas, a DataFrame is a two-dimensional labeled data structure that is used for data manipulation and analysis. It is similar to a table in a relational database or a spreadsheet, where data is organized in rows and columns."
   ]
  },
  {
   "cell_type": "markdown",
   "id": "01ad3994-8274-4cde-87d9-4251aeb6d850",
   "metadata": {
    "jp-MarkdownHeadingCollapsed": true,
    "tags": []
   },
   "source": [
    "! Series: A Series is a one-dimensional labeled array that can hold data of any type (integer, float, string, etc.). It is similar to a one-column table or an array with labeled indices.\n",
    "\n",
    "! DataFrame: A DataFrame is a two-dimensional labeled data structure with columns of potentially different data types. It can be thought of as a collection of Series objects, where each column is a Series."
   ]
  },
  {
   "cell_type": "code",
   "execution_count": 5,
   "id": "9f0f5072-0b08-416c-9ebc-de8c1f7748fe",
   "metadata": {},
   "outputs": [],
   "source": [
    "import pandas as pd"
   ]
  },
  {
   "cell_type": "markdown",
   "id": "c096fddd-b14a-4508-89d9-b72619bdfcc2",
   "metadata": {},
   "source": [
    "Creating a Series"
   ]
  },
  {
   "cell_type": "code",
   "execution_count": 6,
   "id": "a547f241-d283-4a2e-952f-89587f422e5d",
   "metadata": {},
   "outputs": [],
   "source": [
    "data = [1,2,3,4,5]"
   ]
  },
  {
   "cell_type": "code",
   "execution_count": 7,
   "id": "53db79fa-13ac-4726-b6f3-c804b820130b",
   "metadata": {},
   "outputs": [
    {
     "data": {
      "text/plain": [
       "0    1\n",
       "1    2\n",
       "2    3\n",
       "3    4\n",
       "4    5\n",
       "dtype: int64"
      ]
     },
     "execution_count": 7,
     "metadata": {},
     "output_type": "execute_result"
    }
   ],
   "source": [
    "pd.Series(data)"
   ]
  },
  {
   "cell_type": "code",
   "execution_count": 8,
   "id": "1e4a2fef-a5b1-4422-a375-8b55acffa6ca",
   "metadata": {},
   "outputs": [
    {
     "data": {
      "text/html": [
       "<div>\n",
       "<style scoped>\n",
       "    .dataframe tbody tr th:only-of-type {\n",
       "        vertical-align: middle;\n",
       "    }\n",
       "\n",
       "    .dataframe tbody tr th {\n",
       "        vertical-align: top;\n",
       "    }\n",
       "\n",
       "    .dataframe thead th {\n",
       "        text-align: right;\n",
       "    }\n",
       "</style>\n",
       "<table border=\"1\" class=\"dataframe\">\n",
       "  <thead>\n",
       "    <tr style=\"text-align: right;\">\n",
       "      <th></th>\n",
       "      <th>0</th>\n",
       "    </tr>\n",
       "  </thead>\n",
       "  <tbody>\n",
       "    <tr>\n",
       "      <th>0</th>\n",
       "      <td>1</td>\n",
       "    </tr>\n",
       "    <tr>\n",
       "      <th>1</th>\n",
       "      <td>2</td>\n",
       "    </tr>\n",
       "    <tr>\n",
       "      <th>2</th>\n",
       "      <td>3</td>\n",
       "    </tr>\n",
       "    <tr>\n",
       "      <th>3</th>\n",
       "      <td>4</td>\n",
       "    </tr>\n",
       "    <tr>\n",
       "      <th>4</th>\n",
       "      <td>5</td>\n",
       "    </tr>\n",
       "  </tbody>\n",
       "</table>\n",
       "</div>"
      ],
      "text/plain": [
       "   0\n",
       "0  1\n",
       "1  2\n",
       "2  3\n",
       "3  4\n",
       "4  5"
      ]
     },
     "execution_count": 8,
     "metadata": {},
     "output_type": "execute_result"
    }
   ],
   "source": [
    "pd.DataFrame(data)"
   ]
  },
  {
   "cell_type": "markdown",
   "id": "807d5a11-4703-41bc-9f85-b8d9e823f9bd",
   "metadata": {},
   "source": [
    "### Q5. What are some common functions you can use to manipulate data in a Pandas DataFrame? Can you give an example of when you might use one of these functions ?"
   ]
  },
  {
   "cell_type": "markdown",
   "id": "47f51512-de8e-470a-9d86-a03fe0e5c5f2",
   "metadata": {},
   "source": [
    "1.head() and tail(): These functions are used to retrieve the first few rows (head()) or the last few rows (tail()) of a DataFrame. They are helpful for quickly inspecting the data."
   ]
  },
  {
   "cell_type": "markdown",
   "id": "8285810f-629a-43ae-b1a6-2b4941ebb12c",
   "metadata": {},
   "source": [
    "2.groupby(): It is used to group the DataFrame by one or more columns and perform operations on the grouped data. It allows you to aggregate, transform, filter, or apply custom functions to the grouped data. For example, you can calculate the average salary of employees based on their departments using the groupby() function."
   ]
  },
  {
   "cell_type": "markdown",
   "id": "4099fc88-442d-44c9-96d1-9ac4533834c7",
   "metadata": {},
   "source": [
    "3.drop(): It is used to remove rows or columns from the DataFrame. You can specify the labels of rows or columns to be dropped, and you can also specify the axis (0 for rows, 1 for columns). This function helps in eliminating unwanted data from the DataFrame."
   ]
  },
  {
   "cell_type": "markdown",
   "id": "acb35f8c-9f59-4f90-a633-7d38be3f15e0",
   "metadata": {},
   "source": [
    "### Example :-"
   ]
  },
  {
   "cell_type": "markdown",
   "id": "50198b88-c23e-42e1-b17e-6d9040913d27",
   "metadata": {},
   "source": [
    "USSING GROUP BY"
   ]
  },
  {
   "cell_type": "code",
   "execution_count": 9,
   "id": "7751badc-1c2d-4313-b62d-0cfad759ebb7",
   "metadata": {},
   "outputs": [],
   "source": [
    "import pandas as pd"
   ]
  },
  {
   "cell_type": "code",
   "execution_count": 10,
   "id": "a67e5213-2b7a-4343-94f3-f374a0db9228",
   "metadata": {},
   "outputs": [],
   "source": [
    "d = {\n",
    "'Name' : [\"Alice\",\"Bob\",\"Claire\"],\n",
    "'Age' : [25,30,27],\n",
    "'Sex' : [\"Female\",\"Male\",\"Female\"]\n",
    "}"
   ]
  },
  {
   "cell_type": "code",
   "execution_count": 11,
   "id": "fed690a0-32f5-48dd-8c96-827b3ca86c5a",
   "metadata": {},
   "outputs": [
    {
     "data": {
      "text/html": [
       "<div>\n",
       "<style scoped>\n",
       "    .dataframe tbody tr th:only-of-type {\n",
       "        vertical-align: middle;\n",
       "    }\n",
       "\n",
       "    .dataframe tbody tr th {\n",
       "        vertical-align: top;\n",
       "    }\n",
       "\n",
       "    .dataframe thead th {\n",
       "        text-align: right;\n",
       "    }\n",
       "</style>\n",
       "<table border=\"1\" class=\"dataframe\">\n",
       "  <thead>\n",
       "    <tr style=\"text-align: right;\">\n",
       "      <th></th>\n",
       "      <th>Name</th>\n",
       "      <th>Age</th>\n",
       "      <th>Sex</th>\n",
       "    </tr>\n",
       "  </thead>\n",
       "  <tbody>\n",
       "    <tr>\n",
       "      <th>0</th>\n",
       "      <td>Alice</td>\n",
       "      <td>25</td>\n",
       "      <td>Female</td>\n",
       "    </tr>\n",
       "    <tr>\n",
       "      <th>1</th>\n",
       "      <td>Bob</td>\n",
       "      <td>30</td>\n",
       "      <td>Male</td>\n",
       "    </tr>\n",
       "    <tr>\n",
       "      <th>2</th>\n",
       "      <td>Claire</td>\n",
       "      <td>27</td>\n",
       "      <td>Female</td>\n",
       "    </tr>\n",
       "  </tbody>\n",
       "</table>\n",
       "</div>"
      ],
      "text/plain": [
       "     Name  Age     Sex\n",
       "0   Alice   25  Female\n",
       "1     Bob   30    Male\n",
       "2  Claire   27  Female"
      ]
     },
     "execution_count": 11,
     "metadata": {},
     "output_type": "execute_result"
    }
   ],
   "source": [
    "pd.DataFrame(d)"
   ]
  },
  {
   "cell_type": "code",
   "execution_count": 12,
   "id": "6d260d2b-4655-4fe6-ba76-5869f4cf4ed7",
   "metadata": {},
   "outputs": [],
   "source": [
    "g = df.groupby('Sex')"
   ]
  },
  {
   "cell_type": "code",
   "execution_count": 13,
   "id": "f83ada6d-12a6-439a-9706-780aeba228b4",
   "metadata": {},
   "outputs": [
    {
     "data": {
      "text/plain": [
       "<pandas.core.groupby.generic.DataFrameGroupBy object at 0x7f0c2b269840>"
      ]
     },
     "execution_count": 13,
     "metadata": {},
     "output_type": "execute_result"
    }
   ],
   "source": [
    "g"
   ]
  },
  {
   "cell_type": "code",
   "execution_count": 14,
   "id": "ca9dbc11-4833-4da8-b755-76c8773e4db7",
   "metadata": {},
   "outputs": [
    {
     "data": {
      "text/html": [
       "<div>\n",
       "<style scoped>\n",
       "    .dataframe tbody tr th:only-of-type {\n",
       "        vertical-align: middle;\n",
       "    }\n",
       "\n",
       "    .dataframe tbody tr th {\n",
       "        vertical-align: top;\n",
       "    }\n",
       "\n",
       "    .dataframe thead th {\n",
       "        text-align: right;\n",
       "    }\n",
       "</style>\n",
       "<table border=\"1\" class=\"dataframe\">\n",
       "  <thead>\n",
       "    <tr style=\"text-align: right;\">\n",
       "      <th></th>\n",
       "      <th>Age</th>\n",
       "    </tr>\n",
       "    <tr>\n",
       "      <th>Sex</th>\n",
       "      <th></th>\n",
       "    </tr>\n",
       "  </thead>\n",
       "  <tbody>\n",
       "    <tr>\n",
       "      <th>Female</th>\n",
       "      <td>26.0</td>\n",
       "    </tr>\n",
       "    <tr>\n",
       "      <th>Male</th>\n",
       "      <td>30.0</td>\n",
       "    </tr>\n",
       "  </tbody>\n",
       "</table>\n",
       "</div>"
      ],
      "text/plain": [
       "         Age\n",
       "Sex         \n",
       "Female  26.0\n",
       "Male    30.0"
      ]
     },
     "execution_count": 14,
     "metadata": {},
     "output_type": "execute_result"
    }
   ],
   "source": [
    "g.mean('Age')"
   ]
  },
  {
   "cell_type": "markdown",
   "id": "20a1f45a-5d61-42cd-aaf1-ee301a8cdd60",
   "metadata": {},
   "source": [
    "### Q6. Which of the following is mutable in nature Series, DataFrame, Panel?"
   ]
  },
  {
   "cell_type": "markdown",
   "id": "e1b187aa-5b76-4c25-9dbf-b2bc286bbf27",
   "metadata": {},
   "source": [
    "Ans :-  Both DataFrame and Panel are mutable in nature."
   ]
  },
  {
   "cell_type": "markdown",
   "id": "9bbaf72c-333d-4385-a324-0d8909b43e09",
   "metadata": {},
   "source": [
    "### Q7. Create a DataFrame using multiple Series. Explain with an example."
   ]
  },
  {
   "cell_type": "code",
   "execution_count": 20,
   "id": "cdaa34a8-f82f-4d77-80e6-b65448062d03",
   "metadata": {},
   "outputs": [],
   "source": [
    "import pandas as pd"
   ]
  },
  {
   "cell_type": "markdown",
   "id": "d41f9f55-0449-45ef-8ff2-5729cb5c8415",
   "metadata": {},
   "source": [
    " Create Series objects"
   ]
  },
  {
   "cell_type": "code",
   "execution_count": 25,
   "id": "4603a635-3efc-4f67-afbd-88a3b675ac01",
   "metadata": {},
   "outputs": [],
   "source": [
    "names = pd.Series([\"Nabodit\",\"Souvik\",\"Suchitro\"])"
   ]
  },
  {
   "cell_type": "code",
   "execution_count": 26,
   "id": "ae6a9c0d-dfe4-4b0c-bb01-a8bdc029f77f",
   "metadata": {},
   "outputs": [],
   "source": [
    "age = pd.Series([19,20,21])"
   ]
  },
  {
   "cell_type": "code",
   "execution_count": 27,
   "id": "cbd4f8f0-5086-4efc-bfc4-5539cf5974b7",
   "metadata": {},
   "outputs": [],
   "source": [
    "location = pd.Series([\"behala\",\"parnashree\",\"Subhash marg\"])"
   ]
  },
  {
   "cell_type": "markdown",
   "id": "8b139e10-af1b-4049-bc3b-6335bf9f78b7",
   "metadata": {},
   "source": [
    "Create a DataFrame using the Series"
   ]
  },
  {
   "cell_type": "code",
   "execution_count": 29,
   "id": "308d6245-186a-4713-94f2-572d1eccf13a",
   "metadata": {},
   "outputs": [],
   "source": [
    "d = {\n",
    "    'Name' : names,\n",
    "    'Age'  : age,\n",
    "    'Lcation' : location\n",
    "}"
   ]
  },
  {
   "cell_type": "code",
   "execution_count": 32,
   "id": "c52c5d64-adfa-489e-95f0-2306275773f8",
   "metadata": {},
   "outputs": [
    {
     "data": {
      "text/html": [
       "<div>\n",
       "<style scoped>\n",
       "    .dataframe tbody tr th:only-of-type {\n",
       "        vertical-align: middle;\n",
       "    }\n",
       "\n",
       "    .dataframe tbody tr th {\n",
       "        vertical-align: top;\n",
       "    }\n",
       "\n",
       "    .dataframe thead th {\n",
       "        text-align: right;\n",
       "    }\n",
       "</style>\n",
       "<table border=\"1\" class=\"dataframe\">\n",
       "  <thead>\n",
       "    <tr style=\"text-align: right;\">\n",
       "      <th></th>\n",
       "      <th>Name</th>\n",
       "      <th>Age</th>\n",
       "      <th>Lcation</th>\n",
       "    </tr>\n",
       "  </thead>\n",
       "  <tbody>\n",
       "    <tr>\n",
       "      <th>0</th>\n",
       "      <td>Nabodit</td>\n",
       "      <td>19</td>\n",
       "      <td>behala</td>\n",
       "    </tr>\n",
       "    <tr>\n",
       "      <th>1</th>\n",
       "      <td>Souvik</td>\n",
       "      <td>20</td>\n",
       "      <td>parnashree</td>\n",
       "    </tr>\n",
       "    <tr>\n",
       "      <th>2</th>\n",
       "      <td>Suchitro</td>\n",
       "      <td>21</td>\n",
       "      <td>Subhash marg</td>\n",
       "    </tr>\n",
       "  </tbody>\n",
       "</table>\n",
       "</div>"
      ],
      "text/plain": [
       "       Name  Age       Lcation\n",
       "0   Nabodit   19        behala\n",
       "1    Souvik   20    parnashree\n",
       "2  Suchitro   21  Subhash marg"
      ]
     },
     "execution_count": 32,
     "metadata": {},
     "output_type": "execute_result"
    }
   ],
   "source": [
    "pd.DataFrame(d)"
   ]
  },
  {
   "cell_type": "code",
   "execution_count": null,
   "id": "7a71083e-70c6-4ede-8c53-3cc0320073e9",
   "metadata": {},
   "outputs": [],
   "source": []
  }
 ],
 "metadata": {
  "kernelspec": {
   "display_name": "Python 3 (ipykernel)",
   "language": "python",
   "name": "python3"
  },
  "language_info": {
   "codemirror_mode": {
    "name": "ipython",
    "version": 3
   },
   "file_extension": ".py",
   "mimetype": "text/x-python",
   "name": "python",
   "nbconvert_exporter": "python",
   "pygments_lexer": "ipython3",
   "version": "3.10.8"
  }
 },
 "nbformat": 4,
 "nbformat_minor": 5
}
